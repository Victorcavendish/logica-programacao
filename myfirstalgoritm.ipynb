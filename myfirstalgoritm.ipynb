{
  "nbformat": 4,
  "nbformat_minor": 0,
  "metadata": {
    "colab": {
      "provenance": []
    },
    "kernelspec": {
      "name": "python3",
      "display_name": "Python 3"
    },
    "language_info": {
      "name": "python"
    }
  },
  "cells": [
    {
      "cell_type": "code",
      "source": [
        "valor1=0\n",
        "valor2=0\n",
        "operacao=0\n",
        "i=0\n",
        "opcao='Sim'\n",
        "\n",
        "while opcao == 'Sim':\n",
        "  valor1 = int(input('Digite o primeiro valor: '))\n",
        "  operacao = input('Digite o sinal da operação: ')\n",
        "  valor2 = int(input('Digite o segundo valor: '))\n",
        "  if operacao == '+':\n",
        "    print('Sua soma resultou em: ', valor1+valor2)\n",
        "  elif operacao == '-':\n",
        "    print('Sua subtração resultou em: ', valor1-valor2)\n",
        "  elif operacao == '*':\n",
        "    print('Sua multiplicação resultou em: ', valor1*valor2)\n",
        "  elif operacao == '/':\n",
        "    print('Sua divisão resultou em: ', valor1/valor2)\n",
        "  else:\n",
        "    print('Você não digitou um operador válido!')\n",
        "  opcao = input('Deseja continuar? Digite apenas Sim ou Não ')\n",
        "else:\n",
        "  print('Fim da operação!')"
      ],
      "metadata": {
        "id": "_dnAO2R6cHAO"
      },
      "execution_count": null,
      "outputs": []
    }
  ]
}